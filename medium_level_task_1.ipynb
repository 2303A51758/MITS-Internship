{
  "nbformat": 4,
  "nbformat_minor": 0,
  "metadata": {
    "colab": {
      "provenance": [],
      "authorship_tag": "ABX9TyOPnjVamUJYXHJMmPV55m6U",
      "include_colab_link": true
    },
    "kernelspec": {
      "name": "python3",
      "display_name": "Python 3"
    },
    "language_info": {
      "name": "python"
    }
  },
  "cells": [
    {
      "cell_type": "markdown",
      "metadata": {
        "id": "view-in-github",
        "colab_type": "text"
      },
      "source": [
        "<a href=\"https://colab.research.google.com/github/2303A51758/MITS-Internship/blob/main/medium_level_task_1.ipynb\" target=\"_parent\"><img src=\"https://colab.research.google.com/assets/colab-badge.svg\" alt=\"Open In Colab\"/></a>"
      ]
    },
    {
      "cell_type": "markdown",
      "source": [
        "Task 1: RESTful Services for Internship Applications & Certificate Verification\n",
        "This app includes:\n",
        "\n",
        "Internship application submission API\n",
        "\n",
        "Certificate verification API\n",
        "\n",
        "Input validation using Pydantic\n",
        "\n",
        "SQLite database via SQLAlchemy\n",
        "\n",
        "Simple architecture for fast testing & development"
      ],
      "metadata": {
        "id": "sh4IS6lplz67"
      }
    },
    {
      "cell_type": "markdown",
      "source": [
        "1. Install Required Packages\n",
        "\n"
      ],
      "metadata": {
        "id": "0dx6pmixl6rc"
      }
    },
    {
      "cell_type": "code",
      "source": [
        "pip install fastapi uvicorn sqlalchemy pydantic\n"
      ],
      "metadata": {
        "colab": {
          "base_uri": "https://localhost:8080/"
        },
        "id": "cLspNRaJl-hd",
        "outputId": "a3ce8ee3-942f-4494-849c-006cd569679d"
      },
      "execution_count": 1,
      "outputs": [
        {
          "output_type": "stream",
          "name": "stdout",
          "text": [
            "Collecting fastapi\n",
            "  Downloading fastapi-0.115.12-py3-none-any.whl.metadata (27 kB)\n",
            "Collecting uvicorn\n",
            "  Downloading uvicorn-0.34.3-py3-none-any.whl.metadata (6.5 kB)\n",
            "Requirement already satisfied: sqlalchemy in /usr/local/lib/python3.11/dist-packages (2.0.41)\n",
            "Requirement already satisfied: pydantic in /usr/local/lib/python3.11/dist-packages (2.11.4)\n",
            "Collecting starlette<0.47.0,>=0.40.0 (from fastapi)\n",
            "  Downloading starlette-0.46.2-py3-none-any.whl.metadata (6.2 kB)\n",
            "Requirement already satisfied: typing-extensions>=4.8.0 in /usr/local/lib/python3.11/dist-packages (from fastapi) (4.13.2)\n",
            "Requirement already satisfied: click>=7.0 in /usr/local/lib/python3.11/dist-packages (from uvicorn) (8.2.1)\n",
            "Requirement already satisfied: h11>=0.8 in /usr/local/lib/python3.11/dist-packages (from uvicorn) (0.16.0)\n",
            "Requirement already satisfied: greenlet>=1 in /usr/local/lib/python3.11/dist-packages (from sqlalchemy) (3.2.2)\n",
            "Requirement already satisfied: annotated-types>=0.6.0 in /usr/local/lib/python3.11/dist-packages (from pydantic) (0.7.0)\n",
            "Requirement already satisfied: pydantic-core==2.33.2 in /usr/local/lib/python3.11/dist-packages (from pydantic) (2.33.2)\n",
            "Requirement already satisfied: typing-inspection>=0.4.0 in /usr/local/lib/python3.11/dist-packages (from pydantic) (0.4.1)\n",
            "Requirement already satisfied: anyio<5,>=3.6.2 in /usr/local/lib/python3.11/dist-packages (from starlette<0.47.0,>=0.40.0->fastapi) (4.9.0)\n",
            "Requirement already satisfied: idna>=2.8 in /usr/local/lib/python3.11/dist-packages (from anyio<5,>=3.6.2->starlette<0.47.0,>=0.40.0->fastapi) (3.10)\n",
            "Requirement already satisfied: sniffio>=1.1 in /usr/local/lib/python3.11/dist-packages (from anyio<5,>=3.6.2->starlette<0.47.0,>=0.40.0->fastapi) (1.3.1)\n",
            "Downloading fastapi-0.115.12-py3-none-any.whl (95 kB)\n",
            "\u001b[2K   \u001b[90m━━━━━━━━━━━━━━━━━━━━━━━━━━━━━━━━━━━━━━━━\u001b[0m \u001b[32m95.2/95.2 kB\u001b[0m \u001b[31m6.5 MB/s\u001b[0m eta \u001b[36m0:00:00\u001b[0m\n",
            "\u001b[?25hDownloading uvicorn-0.34.3-py3-none-any.whl (62 kB)\n",
            "\u001b[2K   \u001b[90m━━━━━━━━━━━━━━━━━━━━━━━━━━━━━━━━━━━━━━━━\u001b[0m \u001b[32m62.4/62.4 kB\u001b[0m \u001b[31m4.1 MB/s\u001b[0m eta \u001b[36m0:00:00\u001b[0m\n",
            "\u001b[?25hDownloading starlette-0.46.2-py3-none-any.whl (72 kB)\n",
            "\u001b[2K   \u001b[90m━━━━━━━━━━━━━━━━━━━━━━━━━━━━━━━━━━━━━━━━\u001b[0m \u001b[32m72.0/72.0 kB\u001b[0m \u001b[31m4.2 MB/s\u001b[0m eta \u001b[36m0:00:00\u001b[0m\n",
            "\u001b[?25hInstalling collected packages: uvicorn, starlette, fastapi\n",
            "Successfully installed fastapi-0.115.12 starlette-0.46.2 uvicorn-0.34.3\n"
          ]
        }
      ]
    },
    {
      "cell_type": "markdown",
      "source": [
        "2. Full Python Code (Single File: main.py)"
      ],
      "metadata": {
        "id": "jMGY6qPGmCOk"
      }
    },
    {
      "cell_type": "code",
      "source": [
        "!pip install fastapi uvicorn sqlalchemy \"pydantic[email]\""
      ],
      "metadata": {
        "colab": {
          "base_uri": "https://localhost:8080/"
        },
        "id": "IrgL6618o9bq",
        "outputId": "bdb7ea1e-4dca-4680-9cc0-5748b0ece9f8"
      },
      "execution_count": 4,
      "outputs": [
        {
          "output_type": "stream",
          "name": "stdout",
          "text": [
            "Requirement already satisfied: fastapi in /usr/local/lib/python3.11/dist-packages (0.115.12)\n",
            "Requirement already satisfied: uvicorn in /usr/local/lib/python3.11/dist-packages (0.34.3)\n",
            "Requirement already satisfied: sqlalchemy in /usr/local/lib/python3.11/dist-packages (2.0.41)\n",
            "Requirement already satisfied: pydantic[email] in /usr/local/lib/python3.11/dist-packages (2.11.4)\n",
            "Requirement already satisfied: starlette<0.47.0,>=0.40.0 in /usr/local/lib/python3.11/dist-packages (from fastapi) (0.46.2)\n",
            "Requirement already satisfied: typing-extensions>=4.8.0 in /usr/local/lib/python3.11/dist-packages (from fastapi) (4.13.2)\n",
            "Requirement already satisfied: click>=7.0 in /usr/local/lib/python3.11/dist-packages (from uvicorn) (8.2.1)\n",
            "Requirement already satisfied: h11>=0.8 in /usr/local/lib/python3.11/dist-packages (from uvicorn) (0.16.0)\n",
            "Requirement already satisfied: greenlet>=1 in /usr/local/lib/python3.11/dist-packages (from sqlalchemy) (3.2.2)\n",
            "Requirement already satisfied: annotated-types>=0.6.0 in /usr/local/lib/python3.11/dist-packages (from pydantic[email]) (0.7.0)\n",
            "Requirement already satisfied: pydantic-core==2.33.2 in /usr/local/lib/python3.11/dist-packages (from pydantic[email]) (2.33.2)\n",
            "Requirement already satisfied: typing-inspection>=0.4.0 in /usr/local/lib/python3.11/dist-packages (from pydantic[email]) (0.4.1)\n",
            "Collecting email-validator>=2.0.0 (from pydantic[email])\n",
            "  Downloading email_validator-2.2.0-py3-none-any.whl.metadata (25 kB)\n",
            "Collecting dnspython>=2.0.0 (from email-validator>=2.0.0->pydantic[email])\n",
            "  Downloading dnspython-2.7.0-py3-none-any.whl.metadata (5.8 kB)\n",
            "Requirement already satisfied: idna>=2.0.0 in /usr/local/lib/python3.11/dist-packages (from email-validator>=2.0.0->pydantic[email]) (3.10)\n",
            "Requirement already satisfied: anyio<5,>=3.6.2 in /usr/local/lib/python3.11/dist-packages (from starlette<0.47.0,>=0.40.0->fastapi) (4.9.0)\n",
            "Requirement already satisfied: sniffio>=1.1 in /usr/local/lib/python3.11/dist-packages (from anyio<5,>=3.6.2->starlette<0.47.0,>=0.40.0->fastapi) (1.3.1)\n",
            "Downloading email_validator-2.2.0-py3-none-any.whl (33 kB)\n",
            "Downloading dnspython-2.7.0-py3-none-any.whl (313 kB)\n",
            "\u001b[2K   \u001b[90m━━━━━━━━━━━━━━━━━━━━━━━━━━━━━━━━━━━━━━━━\u001b[0m \u001b[32m313.6/313.6 kB\u001b[0m \u001b[31m20.5 MB/s\u001b[0m eta \u001b[36m0:00:00\u001b[0m\n",
            "\u001b[?25hInstalling collected packages: dnspython, email-validator\n",
            "Successfully installed dnspython-2.7.0 email-validator-2.2.0\n"
          ]
        }
      ]
    },
    {
      "cell_type": "code",
      "source": [
        "from fastapi import FastAPI, HTTPException\n",
        "from pydantic import BaseModel, EmailStr\n",
        "from sqlalchemy import create_engine, Column, Integer, String, Date\n",
        "from sqlalchemy.orm import sessionmaker, declarative_base\n",
        "from datetime import date\n",
        "import uvicorn\n",
        "\n",
        "# ================= Database Setup =================\n",
        "\n",
        "DATABASE_URL = \"sqlite:///./internship.db\"\n",
        "engine = create_engine(DATABASE_URL, connect_args={\"check_same_thread\": False})\n",
        "SessionLocal = sessionmaker(bind=engine, autoflush=False)\n",
        "Base = declarative_base()\n",
        "\n",
        "# ================= Models =================\n",
        "\n",
        "class InternshipApplication(Base):\n",
        "    __tablename__ = \"applications\"\n",
        "    id = Column(Integer, primary_key=True, index=True)\n",
        "    name = Column(String, nullable=False)\n",
        "    email = Column(String, nullable=False)\n",
        "    domain = Column(String, nullable=False)\n",
        "    application_date = Column(Date, default=date.today)\n",
        "\n",
        "class Certificate(Base):\n",
        "    __tablename__ = \"certificates\"\n",
        "    certificate_code = Column(String, primary_key=True, index=True)\n",
        "    recipient_name = Column(String, nullable=False)\n",
        "    issue_date = Column(Date, nullable=False)\n",
        "\n",
        "Base.metadata.create_all(bind=engine)\n",
        "\n",
        "# ================= Schemas =================\n",
        "\n",
        "class ApplicationRequest(BaseModel):\n",
        "    name: str\n",
        "    email: EmailStr\n",
        "    domain: str\n",
        "\n",
        "class ApplicationResponse(ApplicationRequest):\n",
        "    id: int\n",
        "    application_date: date\n",
        "    class Config:\n",
        "        orm_mode = True\n",
        "\n",
        "class CertificateResponse(BaseModel):\n",
        "    certificate_code: str\n",
        "    recipient_name: str\n",
        "    issue_date: date\n",
        "    class Config:\n",
        "        orm_mode = True\n",
        "\n",
        "# ================= FastAPI App =================\n",
        "\n",
        "app = FastAPI()\n",
        "ALLOWED_DOMAINS = [\"AI\", \"Cybersecurity\", \"Web Development\", \"Data Science\"]\n",
        "\n",
        "def get_db():\n",
        "    db = SessionLocal()\n",
        "    try:\n",
        "        yield db\n",
        "    finally:\n",
        "        db.close()\n",
        "\n",
        "# ================= API Routes =================\n",
        "\n",
        "@app.post(\"/applications\", response_model=ApplicationResponse)\n",
        "def submit_application(app_data: ApplicationRequest):\n",
        "    if app_data.domain not in ALLOWED_DOMAINS:\n",
        "        raise HTTPException(status_code=400, detail=\"Invalid domain\")\n",
        "    db = next(get_db())\n",
        "    application = InternshipApplication(\n",
        "        name=app_data.name,\n",
        "        email=app_data.email,\n",
        "        domain=app_data.domain\n",
        "    )\n",
        "    db.add(application)\n",
        "    db.commit()\n",
        "    db.refresh(application)\n",
        "    return application\n",
        "\n",
        "@app.get(\"/certificates/{code}\", response_model=CertificateResponse)\n",
        "def verify_certificate(code: str):\n",
        "    db = next(get_db())\n",
        "    cert = db.query(Certificate).filter(Certificate.certificate_code == code).first()\n",
        "    if not cert:\n",
        "        raise HTTPException(status_code=404, detail=\"Certificate not found\")\n",
        "    return cert\n",
        "\n",
        "# ================= Run Server =================\n",
        "\n",
        "if __name__ == \"__main__\":\n",
        "    uvicorn.run(\"main:app\", port=8000, reload=True)\n"
      ],
      "metadata": {
        "colab": {
          "base_uri": "https://localhost:8080/"
        },
        "id": "T7inVRxQpEpM",
        "outputId": "b3928eb9-6521-43ef-c052-73a799d1669e"
      },
      "execution_count": 5,
      "outputs": [
        {
          "output_type": "stream",
          "name": "stderr",
          "text": [
            "/usr/local/lib/python3.11/dist-packages/pydantic/_internal/_config.py:373: UserWarning: Valid config keys have changed in V2:\n",
            "* 'orm_mode' has been renamed to 'from_attributes'\n",
            "  warnings.warn(message, UserWarning)\n",
            "INFO:     Will watch for changes in these directories: ['/content']\n",
            "INFO:     Uvicorn running on http://127.0.0.1:8000 (Press CTRL+C to quit)\n",
            "INFO:     Started reloader process [1418] using StatReload\n",
            "INFO:     Stopping reloader process [1418]\n"
          ]
        }
      ]
    },
    {
      "cell_type": "markdown",
      "source": [
        "3. How to Use\n",
        "▶️ Start the Server"
      ],
      "metadata": {
        "id": "2zwQUxsFsQb3"
      }
    },
    {
      "cell_type": "code",
      "source": [
        "!python main.py"
      ],
      "metadata": {
        "colab": {
          "base_uri": "https://localhost:8080/"
        },
        "id": "pdDb97jhsRtV",
        "outputId": "e644f66a-b3ed-4c21-a5b3-5dd903edeb55"
      },
      "execution_count": 9,
      "outputs": [
        {
          "output_type": "stream",
          "name": "stdout",
          "text": [
            "python3: can't open file '/content/main.py': [Errno 2] No such file or directory\n"
          ]
        }
      ]
    },
    {
      "cell_type": "markdown",
      "source": [
        "Access API Docs:\n",
        "Open your browser and visit:\n",
        "\n",
        "\n"
      ],
      "metadata": {
        "id": "Dezwuiu9sj6D"
      }
    },
    {
      "cell_type": "markdown",
      "source": [
        "http://127.0.0.1:8000/docs\n"
      ],
      "metadata": {
        "id": "ZIlhLq3Ts6qZ"
      }
    },
    {
      "cell_type": "markdown",
      "source": [
        "4. Example API Usage\n",
        "📤 POST /applications"
      ],
      "metadata": {
        "id": "Iv0EULDwtAqb"
      }
    },
    {
      "cell_type": "code",
      "source": [
        "{\n",
        "  \"name\": \"John Doe\",\n",
        "  \"email\": \"john@example.com\",\n",
        "  \"domain\": \"AI\"\n",
        "}\n"
      ],
      "metadata": {
        "colab": {
          "base_uri": "https://localhost:8080/"
        },
        "id": "n_BYgaBltDj7",
        "outputId": "824bfe90-503d-4d51-9372-fbba331485ab"
      },
      "execution_count": 15,
      "outputs": [
        {
          "output_type": "execute_result",
          "data": {
            "text/plain": [
              "{'name': 'John Doe', 'email': 'john@example.com', 'domain': 'AI'}"
            ]
          },
          "metadata": {},
          "execution_count": 15
        }
      ]
    },
    {
      "cell_type": "markdown",
      "source": [
        "5. (Optional) Insert Test Certificate Manually"
      ],
      "metadata": {
        "id": "Dnpnas_0tM-E"
      }
    },
    {
      "cell_type": "code",
      "source": [
        "# Save the FastAPI application code into main.py\n",
        "%%writefile main.py\n",
        "from fastapi import FastAPI, HTTPException\n",
        "from pydantic import BaseModel, EmailStr\n",
        "from sqlalchemy import create_engine, Column, Integer, String, Date\n",
        "from sqlalchemy.orm import sessionmaker, declarative_base\n",
        "from datetime import date\n",
        "import uvicorn\n",
        "\n",
        "# ================= Database Setup =================\n",
        "\n",
        "DATABASE_URL = \"sqlite:///./internship.db\"\n",
        "engine = create_engine(DATABASE_URL, connect_args={\"check_same_thread\": False})\n",
        "SessionLocal = sessionmaker(bind=engine, autoflush=False)\n",
        "Base = declarative_base()\n",
        "\n",
        "# ================= Models =================\n",
        "\n",
        "class InternshipApplication(Base):\n",
        "    __tablename__ = \"applications\"\n",
        "    id = Column(Integer, primary_key=True, index=True)\n",
        "    name = Column(String, nullable=False)\n",
        "    email = Column(String, nullable=False)\n",
        "    domain = Column(String, nullable=False)\n",
        "    application_date = Column(Date, default=date.today)\n",
        "\n",
        "class Certificate(Base):\n",
        "    __tablename__ = \"certificates\"\n",
        "    certificate_code = Column(String, primary_key=True, index=True)\n",
        "    recipient_name = Column(String, nullable=False)\n",
        "    issue_date = Column(Date, nullable=False)\n",
        "\n",
        "Base.metadata.create_all(bind=engine)\n",
        "\n",
        "# ================= Schemas =================\n",
        "\n",
        "class ApplicationRequest(BaseModel):\n",
        "    name: str\n",
        "    email: EmailStr\n",
        "    domain: str\n",
        "\n",
        "class ApplicationResponse(ApplicationRequest):\n",
        "    id: int\n",
        "    application_date: date\n",
        "    class Config:\n",
        "        orm_mode = True\n",
        "\n",
        "class CertificateResponse(BaseModel):\n",
        "    certificate_code: str\n",
        "    recipient_name: str\n",
        "    issue_date: date\n",
        "    class Config:\n",
        "        orm_mode = True\n",
        "\n",
        "# ================= FastAPI App =================\n",
        "\n",
        "app = FastAPI()\n",
        "ALLOWED_DOMAINS = [\"AI\", \"Cybersecurity\", \"Web Development\", \"Data Science\"]\n",
        "\n",
        "def get_db():\n",
        "    db = SessionLocal()\n",
        "    try:\n",
        "        yield db\n",
        "    finally:\n",
        "        db.close()\n",
        "\n",
        "# ================= API Routes =================\n",
        "\n",
        "@app.post(\"/applications\", response_model=ApplicationResponse)\n",
        "def submit_application(app_data: ApplicationRequest):\n",
        "    if app_data.domain not in ALLOWED_DOMAINS:\n",
        "        raise HTTPException(status_code=400, detail=\"Invalid domain\")\n",
        "    db = next(get_db())\n",
        "    application = InternshipApplication(\n",
        "        name=app_data.name,\n",
        "        email=app_data.email,\n",
        "        domain=app_data.domain\n",
        "    )\n",
        "    db.add(application)\n",
        "    db.commit()\n",
        "    db.refresh(application)\n",
        "    return application\n",
        "\n",
        "@app.get(\"/certificates/{code}\", response_model=CertificateResponse)\n",
        "def verify_certificate(code: str):\n",
        "    db = next(get_db())\n",
        "    cert = db.query(Certificate).filter(Certificate.certificate_code == code).first()\n",
        "    if not cert:\n",
        "        raise HTTPException(status_code=404, detail=\"Certificate not found\")\n",
        "    return cert\n",
        "\n",
        "# ================= Run Server =================\n",
        "\n",
        "if __name__ == \"__main__\":\n",
        "    uvicorn.run(\"main:app\", port=8000, reload=True)"
      ],
      "metadata": {
        "colab": {
          "base_uri": "https://localhost:8080/"
        },
        "id": "12qXaecDtdn4",
        "outputId": "9f3698df-ac9b-45c2-ee39-faec909d78a5"
      },
      "execution_count": 17,
      "outputs": [
        {
          "output_type": "stream",
          "name": "stdout",
          "text": [
            "Writing main.py\n"
          ]
        }
      ]
    }
  ]
}