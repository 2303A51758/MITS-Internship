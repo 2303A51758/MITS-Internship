{
  "nbformat": 4,
  "nbformat_minor": 0,
  "metadata": {
    "colab": {
      "provenance": [],
      "authorship_tag": "ABX9TyMRAmk5FdK8mlr1IeKnB+9Z",
      "include_colab_link": true
    },
    "kernelspec": {
      "name": "python3",
      "display_name": "Python 3"
    },
    "language_info": {
      "name": "python"
    }
  },
  "cells": [
    {
      "cell_type": "markdown",
      "metadata": {
        "id": "view-in-github",
        "colab_type": "text"
      },
      "source": [
        "<a href=\"https://colab.research.google.com/github/2303A51758/MITS-Internship/blob/main/project_9_STUDENT_MANAGEMENT_SYSTEM.ipynb\" target=\"_parent\"><img src=\"https://colab.research.google.com/assets/colab-badge.svg\" alt=\"Open In Colab\"/></a>"
      ]
    },
    {
      "cell_type": "markdown",
      "source": [
        "PROJECT-9 STUDENT MANAGEMENT SYSTEM (SMS)  a comprehensive application to manage student data and handle administrative tasks such as"
      ],
      "metadata": {
        "id": "loQ0iIup3HdV"
      }
    },
    {
      "cell_type": "markdown",
      "source": [
        "**Core Features**\n",
        "\n",
        "**1.Student Information Management**\n",
        "\n",
        "  Add, edit, delete student profiles\n",
        "\n",
        "  Store details: name, DOB, contact info, address, parent info, profile picture, etc.\n",
        "\n",
        "**2.Enrollment Management**\n",
        "\n",
        " Course registration and withdrawal\n",
        "\n",
        " Track enrolled courses per semester/year\n",
        "\n",
        " Class/section assignment\n",
        "\n",
        "**3.Attendance Tracking**\n",
        "\n",
        " Mark daily attendance per class/subject\n",
        "\n",
        " Generate attendance reports\n",
        "\n",
        " Notify parents/students about absences\n",
        "\n",
        "**4.Grades and Performance**\n",
        "\n",
        " Enter and update test/exam/assignment grades\n",
        "\n",
        " Calculate GPA/percentage\n",
        "\n",
        " Generate report cards\n",
        "\n",
        "**5.Communication Module**\n",
        "\n",
        " Send messages/notifications to students and parents\n",
        "\n",
        " Event and announcement board\n",
        "\n",
        " Email or in-app messaging support\n",
        "\n"
      ],
      "metadata": {
        "id": "0QQMl1_53lXi"
      }
    },
    {
      "cell_type": "markdown",
      "source": [
        "**Technology Stack Suggestions**\n",
        "\n",
        "**1.Frontend:**\n",
        "\n",
        "React / Angular / Vue.js (for modern UI)\n",
        "\n",
        "Tailwind CSS / Bootstrap for styling\n",
        "\n",
        "**2.Backend:**\n",
        "\n",
        "Node.js with Express / Django / Flask\n",
        "\n",
        "**3.Database:**\n",
        "\n",
        "MySQL / PostgreSQL for relational data\n",
        "\n",
        "MongoDB if you prefer NoSQL\n",
        "\n",
        "**4.Authentication:**\n",
        "\n",
        "JWT-based auth or OAuth2 (e.g., Google login)\n",
        "\n",
        "**Optional**:\n",
        "\n",
        "Firebase for push notifications\n",
        "\n",
        "Chart.js / Recharts for performance analytics"
      ],
      "metadata": {
        "id": "eE2edP1x4T-M"
      }
    },
    {
      "cell_type": "markdown",
      "source": [
        "**Entities Overview**\n",
        "\n",
        "Student: ID, Name, Contact, DOB, Address, Courses\n",
        "\n",
        "Course: Code, Title, Instructor, Credits\n",
        "\n",
        "Enrollment: Student ID, Course ID, Term, Status\n",
        "\n",
        "Attendance: Student ID, Date, Course ID, Status\n",
        "\n",
        "Grades: Student ID, Course ID, Score, Type (Exam, Assignment)\n",
        "\n",
        "Message: Sender, Receiver, Subject, Content, Date"
      ],
      "metadata": {
        "id": "ntyZ1FaD59PJ"
      }
    },
    {
      "cell_type": "markdown",
      "source": [
        "**Possible Extra Features**\n",
        "\n",
        "Parent Portal\n",
        "\n",
        "Admin Dashboard\n",
        "\n",
        "Teacher-specific login and features\n",
        "\n",
        "Export data (CSV/PDF)\n",
        "\n",
        "SMS/Email alerts via 3rd-party services"
      ],
      "metadata": {
        "id": "iqUaj0d16Dxw"
      }
    },
    {
      "cell_type": "markdown",
      "source": [
        " Python Code (Student Management System - Simple Console App)\n",
        "\n"
      ],
      "metadata": {
        "id": "yVoBEw5t6N60"
      }
    },
    {
      "cell_type": "code",
      "source": [
        "import sqlite3\n",
        "\n",
        "# Connect to SQLite DB (or create if it doesn't exist)\n",
        "conn = sqlite3.connect('students.db')\n",
        "cursor = conn.cursor()\n",
        "\n",
        "# Create students table\n",
        "cursor.execute('''\n",
        "CREATE TABLE IF NOT EXISTS students (\n",
        "    id INTEGER PRIMARY KEY AUTOINCREMENT,\n",
        "    name TEXT NOT NULL,\n",
        "    age INTEGER,\n",
        "    grade TEXT\n",
        ")\n",
        "''')\n",
        "\n",
        "# Functions\n",
        "def add_student(name, age, grade):\n",
        "    cursor.execute(\"INSERT INTO students (name, age, grade) VALUES (?, ?, ?)\", (name, age, grade))\n",
        "    conn.commit()\n",
        "    print(\"Student added successfully.\")\n",
        "\n",
        "def view_students():\n",
        "    cursor.execute(\"SELECT * FROM students\")\n",
        "    for row in cursor.fetchall():\n",
        "        print(row)\n",
        "\n",
        "def update_student(student_id, name, age, grade):\n",
        "    cursor.execute(\"UPDATE students SET name=?, age=?, grade=? WHERE id=?\", (name, age, grade, student_id))\n",
        "    conn.commit()\n",
        "    print(\"Student updated.\")\n",
        "\n",
        "def delete_student(student_id):\n",
        "    cursor.execute(\"DELETE FROM students WHERE id=?\", (student_id,))\n",
        "    conn.commit()\n",
        "    print(\"Student deleted.\")\n",
        "\n",
        "# Sample CLI Menu\n",
        "while True:\n",
        "    print(\"\\n--- Student Management ---\")\n",
        "    print(\"1. Add Student\\n2. View Students\\n3. Update Student\\n4. Delete Student\\n5. Exit\")\n",
        "    choice = input(\"Enter choice: \")\n",
        "\n",
        "    if choice == '1':\n",
        "        n = input(\"Name: \")\n",
        "        a = int(input(\"Age: \"))\n",
        "        g = input(\"Grade: \")\n",
        "        add_student(n, a, g)\n",
        "    elif choice == '2':\n",
        "        view_students()\n",
        "    elif choice == '3':\n",
        "        sid = int(input(\"Student ID to update: \"))\n",
        "        n = input(\"New Name: \")\n",
        "        a = int(input(\"New Age: \"))\n",
        "        g = input(\"New Grade: \")\n",
        "        update_student(sid, n, a, g)\n",
        "    elif choice == '4':\n",
        "        sid = int(input(\"Student ID to delete: \"))\n",
        "        delete_student(sid)\n",
        "    elif choice == '5':\n",
        "        break\n",
        "    else:\n",
        "        print(\"Invalid choice.\")\n"
      ],
      "metadata": {
        "colab": {
          "base_uri": "https://localhost:8080/"
        },
        "id": "zJGxt2WO6PFj",
        "outputId": "f8d74e51-dba2-4e54-8951-45fb8e9c804d"
      },
      "execution_count": 4,
      "outputs": [
        {
          "name": "stdout",
          "output_type": "stream",
          "text": [
            "\n",
            "--- Student Management ---\n",
            "1. Add Student\n",
            "2. View Students\n",
            "3. Update Student\n",
            "4. Delete Student\n",
            "5. Exit\n",
            "Enter choice: 1\n",
            "Name: varshini\n",
            "Age: 20\n",
            "Grade: 9.4\n",
            "Student added successfully.\n",
            "\n",
            "--- Student Management ---\n",
            "1. Add Student\n",
            "2. View Students\n",
            "3. Update Student\n",
            "4. Delete Student\n",
            "5. Exit\n",
            "Enter choice: bhavana\n",
            "Invalid choice.\n",
            "\n",
            "--- Student Management ---\n",
            "1. Add Student\n",
            "2. View Students\n",
            "3. Update Student\n",
            "4. Delete Student\n",
            "5. Exit\n",
            "Enter choice: 2\n",
            "(1, 'varshini', 20, '94')\n",
            "(2, 'varshini', 20, '9.4')\n",
            "(3, 'varshini', 20, '9.4')\n",
            "\n",
            "--- Student Management ---\n",
            "1. Add Student\n",
            "2. View Students\n",
            "3. Update Student\n",
            "4. Delete Student\n",
            "5. Exit\n",
            "Enter choice: 3\n",
            "Student ID to update: 1758\n",
            "New Name: bhavana\n",
            "New Age: 20\n",
            "New Grade: 8,4\n",
            "Student updated.\n",
            "\n",
            "--- Student Management ---\n",
            "1. Add Student\n",
            "2. View Students\n",
            "3. Update Student\n",
            "4. Delete Student\n",
            "5. Exit\n",
            "Enter choice: 4\n",
            "Student ID to delete: 1753\n",
            "Student deleted.\n",
            "\n",
            "--- Student Management ---\n",
            "1. Add Student\n",
            "2. View Students\n",
            "3. Update Student\n",
            "4. Delete Student\n",
            "5. Exit\n",
            "Enter choice: 5\n"
          ]
        }
      ]
    },
    {
      "cell_type": "markdown",
      "source": [
        "This is a console app; no web interface.\n",
        "\n",
        "You need Python 3.x installed.\n",
        "\n",
        "Run the script, and a file students.db will be created with a table.\n",
        "\n"
      ],
      "metadata": {
        "id": "8--ZUArO6gLW"
      }
    }
  ]
}