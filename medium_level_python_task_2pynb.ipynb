{
  "nbformat": 4,
  "nbformat_minor": 0,
  "metadata": {
    "colab": {
      "provenance": [],
      "authorship_tag": "ABX9TyOMV13K2k+n9ygyvXBELdSk",
      "include_colab_link": true
    },
    "kernelspec": {
      "name": "python3",
      "display_name": "Python 3"
    },
    "language_info": {
      "name": "python"
    }
  },
  "cells": [
    {
      "cell_type": "markdown",
      "metadata": {
        "id": "view-in-github",
        "colab_type": "text"
      },
      "source": [
        "<a href=\"https://colab.research.google.com/github/2303A51758/MITS-Internship/blob/main/medium_level_python_task_2pynb.ipynb\" target=\"_parent\"><img src=\"https://colab.research.google.com/assets/colab-badge.svg\" alt=\"Open In Colab\"/></a>"
      ]
    },
    {
      "cell_type": "markdown",
      "source": [
        " Python program that implements a clean service-layer architecture for internship management, handling business rules like:\n",
        "\n",
        "Validating internship durations (e.g., 1–6 months allowed)\n",
        "\n",
        "Validating and assigning internship domains\n",
        "\n",
        "Validating user input (name, email, etc.)"
      ],
      "metadata": {
        "id": "a36ZRGkNhzwt"
      }
    },
    {
      "cell_type": "markdown",
      "source": [
        "It includes:\n",
        "\n",
        "Models (Internship, User)\n",
        "\n",
        "Service layer (InternshipService)\n",
        "\n",
        "Simple repository pattern\n",
        "\n",
        "Unit tests using unittest\n",
        "\n"
      ],
      "metadata": {
        "id": "1yHaZY7zh5i6"
      }
    },
    {
      "cell_type": "markdown",
      "source": [
        "internship_service.py"
      ],
      "metadata": {
        "id": "6f91cY8wiGWt"
      }
    },
    {
      "cell_type": "code",
      "source": [
        "from datetime import datetime, timedelta\n",
        "from typing import List\n",
        "import re\n",
        "\n",
        "# Sample in-memory \"database\"\n",
        "users_db = []\n",
        "internships_db = []\n",
        "\n",
        "# Allowed domains for internship\n",
        "ALLOWED_DOMAINS = ['AI', 'Web Development', 'Cybersecurity', 'Data Science']\n",
        "\n",
        "class User:\n",
        "    def __init__(self, name: str, email: str):\n",
        "        if not self.validate_name(name):\n",
        "            raise ValueError(\"Invalid name.\")\n",
        "        if not self.validate_email(email):\n",
        "            raise ValueError(\"Invalid email address.\")\n",
        "        self.name = name\n",
        "        self.email = email\n",
        "\n",
        "    @staticmethod\n",
        "    def validate_name(name):\n",
        "        return isinstance(name, str) and len(name.strip()) > 2\n",
        "\n",
        "    @staticmethod\n",
        "    def validate_email(email):\n",
        "        regex = r'^[\\w\\.-]+@[\\w\\.-]+\\.\\w+$'\n",
        "        return re.match(regex, email) is not None\n",
        "\n",
        "class Internship:\n",
        "    def __init__(self, user: User, domain: str, start_date: datetime, end_date: datetime):\n",
        "        if domain not in ALLOWED_DOMAINS:\n",
        "            raise ValueError(f\"Domain '{domain}' is not allowed.\")\n",
        "        if not self.validate_duration(start_date, end_date):\n",
        "            raise ValueError(\"Duration must be between 1 and 6 months.\")\n",
        "        self.user = user\n",
        "        self.domain = domain\n",
        "        self.start_date = start_date\n",
        "        self.end_date = end_date\n",
        "\n",
        "    @staticmethod\n",
        "    def validate_duration(start_date, end_date):\n",
        "        duration = end_date - start_date\n",
        "        return timedelta(days=30) <= duration <= timedelta(days=180)\n",
        "\n",
        "class InternshipService:\n",
        "    def create_user(self, name: str, email: str) -> User:\n",
        "        user = User(name, email)\n",
        "        users_db.append(user)\n",
        "        return user\n",
        "\n",
        "    def assign_internship(self, user: User, domain: str, start_date: datetime, end_date: datetime) -> Internship:\n",
        "        internship = Internship(user, domain, start_date, end_date)\n",
        "        internships_db.append(internship)\n",
        "        return internship\n",
        "\n",
        "    def list_internships(self) -> List[Internship]:\n",
        "        return internships_db\n"
      ],
      "metadata": {
        "id": "XDmr5xnXiHot"
      },
      "execution_count": 2,
      "outputs": []
    },
    {
      "cell_type": "markdown",
      "source": [
        "test_internship_service.py\n",
        "\n"
      ],
      "metadata": {
        "id": "vPulCPlCi4uQ"
      }
    },
    {
      "cell_type": "code",
      "source": [
        "import unittest\n",
        "from datetime import datetime\n",
        "# Remove the import statement below\n",
        "# from internship_Service import InternshipService, User\n",
        "\n",
        "class TestInternshipService(unittest.TestCase):\n",
        "\n",
        "    def setUp(self):\n",
        "        self.service = InternshipService()\n",
        "        self.user = self.service.create_user(\"Alice\", \"alice@example.com\")\n",
        "\n",
        "    def test_create_user_valid(self):\n",
        "        self.assertEqual(self.user.name, \"Alice\")\n",
        "        self.assertEqual(self.user.email, \"alice@example.com\")\n",
        "\n",
        "    def test_create_user_invalid_email(self):\n",
        "        with self.assertRaises(ValueError):\n",
        "            self.service.create_user(\"Bob\", \"bob[at]email.com\")\n",
        "\n",
        "    def test_assign_valid_internship(self):\n",
        "        start = datetime(2025, 6, 1)\n",
        "        end = datetime(2025, 9, 1)\n",
        "        internship = self.service.assign_internship(self.user, \"AI\", start, end)\n",
        "        self.assertEqual(internship.domain, \"AI\")\n",
        "\n",
        "    def test_assign_invalid_domain(self):\n",
        "        with self.assertRaises(ValueError):\n",
        "            self.service.assign_internship(self.user, \"Blockchain\", datetime(2025, 6, 1), datetime(2025, 9, 1))\n",
        "\n",
        "    def test_assign_invalid_duration(self):\n",
        "        with self.assertRaises(ValueError):\n",
        "            self.service.assign_internship(self.user, \"AI\", datetime(2025, 6, 1), datetime(2025, 6, 10))\n",
        "\n",
        "if __name__ == '__main__':\n",
        "    # When running in a Jupyter notebook, unittest.main() might behave differently.\n",
        "    # A common pattern is to use IPython's way of running tests.\n",
        "    # import sys; sys.argv.append('test_create_user_valid') # Example: Run only one test\n",
        "    unittest.main(argv=['first-arg-is-ignored'], exit=False)"
      ],
      "metadata": {
        "colab": {
          "base_uri": "https://localhost:8080/"
        },
        "id": "-ffQyjXBjPro",
        "outputId": "100c2e2a-7e11-4b18-8c81-c98cb5ea69ba"
      },
      "execution_count": 8,
      "outputs": [
        {
          "output_type": "stream",
          "name": "stderr",
          "text": [
            ".....\n",
            "----------------------------------------------------------------------\n",
            "Ran 5 tests in 0.006s\n",
            "\n",
            "OK\n"
          ]
        }
      ]
    },
    {
      "cell_type": "markdown",
      "source": [
        "How to Run:\n",
        "Save the service as internship_service.py\n",
        "\n",
        "Save the test file as test_internship_service.py\n",
        "\n",
        "Run tests:"
      ],
      "metadata": {
        "id": "ib8tBKlsjW2r"
      }
    },
    {
      "cell_type": "code",
      "source": [
        "!python test_internship_service.py"
      ],
      "metadata": {
        "colab": {
          "base_uri": "https://localhost:8080/"
        },
        "id": "bnoDrLaejZMg",
        "outputId": "db163641-353b-4290-cd0e-78dad96df883"
      },
      "execution_count": 10,
      "outputs": [
        {
          "output_type": "stream",
          "name": "stdout",
          "text": [
            "python3: can't open file '/content/test_internship_service.py': [Errno 2] No such file or directory\n"
          ]
        }
      ]
    }
  ]
}