{
  "nbformat": 4,
  "nbformat_minor": 0,
  "metadata": {
    "colab": {
      "provenance": [],
      "authorship_tag": "ABX9TyOLBVMhMaihkPLVWmWshEqS",
      "include_colab_link": true
    },
    "kernelspec": {
      "name": "python3",
      "display_name": "Python 3"
    },
    "language_info": {
      "name": "python"
    }
  },
  "cells": [
    {
      "cell_type": "markdown",
      "metadata": {
        "id": "view-in-github",
        "colab_type": "text"
      },
      "source": [
        "<a href=\"https://colab.research.google.com/github/2303A51758/MITS-Internship/blob/main/medium_level_task_4_ipynyb.ipynb\" target=\"_parent\"><img src=\"https://colab.research.google.com/assets/colab-badge.svg\" alt=\"Open In Colab\"/></a>"
      ]
    },
    {
      "cell_type": "markdown",
      "source": [
        "Task 4: On-the-Fly PDF Generation Service\n",
        "This uses:\n",
        "\n",
        "FastAPI (for HTTP handling)\n",
        "\n",
        "ReportLab (for generating PDFs directly in memory)\n",
        "\n",
        "No files are saved on the server\n",
        "\n",
        "Returns PDF as a downloadable file in response\n",
        "\n"
      ],
      "metadata": {
        "id": "XQD1BTNfxzfH"
      }
    },
    {
      "cell_type": "markdown",
      "source": [
        "1. Install Required Libraries"
      ],
      "metadata": {
        "id": "D63xITq_x3ZZ"
      }
    },
    {
      "cell_type": "code",
      "source": [
        "pip install fastapi uvicorn reportlab\n"
      ],
      "metadata": {
        "colab": {
          "base_uri": "https://localhost:8080/"
        },
        "id": "RuKRe4Vmx5tt",
        "outputId": "1214dcca-1aeb-4644-99a1-a095cfebd0b1"
      },
      "execution_count": 1,
      "outputs": [
        {
          "output_type": "stream",
          "name": "stdout",
          "text": [
            "Collecting fastapi\n",
            "  Downloading fastapi-0.115.12-py3-none-any.whl.metadata (27 kB)\n",
            "Collecting uvicorn\n",
            "  Downloading uvicorn-0.34.3-py3-none-any.whl.metadata (6.5 kB)\n",
            "Collecting reportlab\n",
            "  Downloading reportlab-4.4.1-py3-none-any.whl.metadata (1.8 kB)\n",
            "Collecting starlette<0.47.0,>=0.40.0 (from fastapi)\n",
            "  Downloading starlette-0.46.2-py3-none-any.whl.metadata (6.2 kB)\n",
            "Requirement already satisfied: pydantic!=1.8,!=1.8.1,!=2.0.0,!=2.0.1,!=2.1.0,<3.0.0,>=1.7.4 in /usr/local/lib/python3.11/dist-packages (from fastapi) (2.10.6)\n",
            "Requirement already satisfied: typing-extensions>=4.8.0 in /usr/local/lib/python3.11/dist-packages (from fastapi) (4.12.2)\n",
            "Requirement already satisfied: click>=7.0 in /usr/local/lib/python3.11/dist-packages (from uvicorn) (8.1.8)\n",
            "Requirement already satisfied: h11>=0.8 in /usr/local/lib/python3.11/dist-packages (from uvicorn) (0.14.0)\n",
            "Requirement already satisfied: pillow>=9.0.0 in /usr/local/lib/python3.11/dist-packages (from reportlab) (11.1.0)\n",
            "Requirement already satisfied: chardet in /usr/local/lib/python3.11/dist-packages (from reportlab) (5.2.0)\n",
            "Requirement already satisfied: annotated-types>=0.6.0 in /usr/local/lib/python3.11/dist-packages (from pydantic!=1.8,!=1.8.1,!=2.0.0,!=2.0.1,!=2.1.0,<3.0.0,>=1.7.4->fastapi) (0.7.0)\n",
            "Requirement already satisfied: pydantic-core==2.27.2 in /usr/local/lib/python3.11/dist-packages (from pydantic!=1.8,!=1.8.1,!=2.0.0,!=2.0.1,!=2.1.0,<3.0.0,>=1.7.4->fastapi) (2.27.2)\n",
            "Requirement already satisfied: anyio<5,>=3.6.2 in /usr/local/lib/python3.11/dist-packages (from starlette<0.47.0,>=0.40.0->fastapi) (3.7.1)\n",
            "Requirement already satisfied: idna>=2.8 in /usr/local/lib/python3.11/dist-packages (from anyio<5,>=3.6.2->starlette<0.47.0,>=0.40.0->fastapi) (3.10)\n",
            "Requirement already satisfied: sniffio>=1.1 in /usr/local/lib/python3.11/dist-packages (from anyio<5,>=3.6.2->starlette<0.47.0,>=0.40.0->fastapi) (1.3.1)\n",
            "Downloading fastapi-0.115.12-py3-none-any.whl (95 kB)\n",
            "\u001b[2K   \u001b[90m━━━━━━━━━━━━━━━━━━━━━━━━━━━━━━━━━━━━━━━━\u001b[0m \u001b[32m95.2/95.2 kB\u001b[0m \u001b[31m2.7 MB/s\u001b[0m eta \u001b[36m0:00:00\u001b[0m\n",
            "\u001b[?25hDownloading uvicorn-0.34.3-py3-none-any.whl (62 kB)\n",
            "\u001b[2K   \u001b[90m━━━━━━━━━━━━━━━━━━━━━━━━━━━━━━━━━━━━━━━━\u001b[0m \u001b[32m62.4/62.4 kB\u001b[0m \u001b[31m1.8 MB/s\u001b[0m eta \u001b[36m0:00:00\u001b[0m\n",
            "\u001b[?25hDownloading reportlab-4.4.1-py3-none-any.whl (2.0 MB)\n",
            "\u001b[2K   \u001b[90m━━━━━━━━━━━━━━━━━━━━━━━━━━━━━━━━━━━━━━━━\u001b[0m \u001b[32m2.0/2.0 MB\u001b[0m \u001b[31m31.7 MB/s\u001b[0m eta \u001b[36m0:00:00\u001b[0m\n",
            "\u001b[?25hDownloading starlette-0.46.2-py3-none-any.whl (72 kB)\n",
            "\u001b[2K   \u001b[90m━━━━━━━━━━━━━━━━━━━━━━━━━━━━━━━━━━━━━━━━\u001b[0m \u001b[32m72.0/72.0 kB\u001b[0m \u001b[31m5.1 MB/s\u001b[0m eta \u001b[36m0:00:00\u001b[0m\n",
            "\u001b[?25hInstalling collected packages: uvicorn, reportlab, starlette, fastapi\n",
            "Successfully installed fastapi-0.115.12 reportlab-4.4.1 starlette-0.46.2 uvicorn-0.34.3\n"
          ]
        }
      ]
    },
    {
      "cell_type": "markdown",
      "source": [
        "2. Python Script: pdf_offer_service.py"
      ],
      "metadata": {
        "id": "60ZYNSF4yHuB"
      }
    },
    {
      "cell_type": "code",
      "source": [
        "from fastapi import FastAPI\n",
        "from pydantic import BaseModel\n",
        "from reportlab.pdfgen import canvas\n",
        "from io import BytesIO\n",
        "from fastapi.responses import StreamingResponse\n",
        "from datetime import date\n",
        "\n",
        "app = FastAPI()\n",
        "\n",
        "class OfferRequest(BaseModel):\n",
        "    name: str\n",
        "    position: str\n",
        "    duration_weeks: int\n",
        "\n",
        "@app.post(\"/generate-offer-letter\")\n",
        "def generate_offer_letter(data: OfferRequest):\n",
        "    # Create PDF in memory\n",
        "    buffer = BytesIO()\n",
        "    p = canvas.Canvas(buffer)\n",
        "\n",
        "    # Generate PDF content\n",
        "    p.setFont(\"Helvetica\", 12)\n",
        "    p.drawString(100, 750, f\"Internship Offer Letter\")\n",
        "    p.drawString(100, 720, f\"Dear {data.name},\")\n",
        "    p.drawString(100, 700, f\"We are pleased to offer you the position of {data.position}.\")\n",
        "    p.drawString(100, 680, f\"Your internship duration is {data.duration_weeks} weeks.\")\n",
        "    p.drawString(100, 660, f\"Start Date: {date.today().strftime('%B %d, %Y')}\")\n",
        "    p.drawString(100, 640, f\"\")\n",
        "    p.drawString(100, 620, f\"Sincerely,\")\n",
        "    p.drawString(100, 600, f\"Internship Coordinator\")\n",
        "\n",
        "    # Finalize PDF\n",
        "    p.showPage()\n",
        "    p.save()\n",
        "    buffer.seek(0)\n",
        "\n",
        "    return StreamingResponse(buffer, media_type=\"application/pdf\", headers={\n",
        "        \"Content-Disposition\": f\"attachment; filename={data.name}_offer_letter.pdf\"\n",
        "    })\n"
      ],
      "metadata": {
        "id": "hrk65__byKUe"
      },
      "execution_count": 2,
      "outputs": []
    },
    {
      "cell_type": "markdown",
      "source": [
        "3. Run the Server\n",
        "\n"
      ],
      "metadata": {
        "id": "lMkxrQ89yNav"
      }
    },
    {
      "cell_type": "code",
      "source": [
        "!uvicorn pdf_offer_service:app --reload"
      ],
      "metadata": {
        "colab": {
          "base_uri": "https://localhost:8080/"
        },
        "id": "HOMF8LWSyZJ5",
        "outputId": "0a5f6e20-e0c7-4775-e3da-9e96e8111f51"
      },
      "execution_count": 1,
      "outputs": [
        {
          "output_type": "stream",
          "name": "stdout",
          "text": [
            "\u001b[32mINFO\u001b[0m:     Will watch for changes in these directories: ['/content']\n",
            "\u001b[32mINFO\u001b[0m:     Uvicorn running on \u001b[1mhttp://127.0.0.1:8000\u001b[0m (Press CTRL+C to quit)\n",
            "\u001b[32mINFO\u001b[0m:     Started reloader process [\u001b[36m\u001b[1m2140\u001b[0m] using \u001b[36m\u001b[1mStatReload\u001b[0m\n",
            "\u001b[31mERROR\u001b[0m:    Error loading ASGI app. Could not import module \"pdf_offer_service\".\n",
            "\u001b[32mINFO\u001b[0m:     Stopping reloader process [\u001b[36m\u001b[1m2140\u001b[0m]\n",
            "^C\n"
          ]
        }
      ]
    },
    {
      "cell_type": "markdown",
      "source": [
        "4. Test It via Swagger UI"
      ],
      "metadata": {
        "id": "Gr0jhQ8Gy4YR"
      }
    },
    {
      "cell_type": "code",
      "source": [
        "POST /generate-offer-letter\n"
      ],
      "metadata": {
        "colab": {
          "base_uri": "https://localhost:8080/",
          "height": 146
        },
        "id": "jKRDO3gmzl1E",
        "outputId": "2b014967-15f5-4eaa-89a2-d0f7e6fc8944"
      },
      "execution_count": 9,
      "outputs": [
        {
          "output_type": "error",
          "ename": "NameError",
          "evalue": "name 'POST' is not defined",
          "traceback": [
            "\u001b[0;31m---------------------------------------------------------------------------\u001b[0m",
            "\u001b[0;31mNameError\u001b[0m                                 Traceback (most recent call last)",
            "\u001b[0;32m<ipython-input-9-1a761ab8ac74>\u001b[0m in \u001b[0;36m<cell line: 0>\u001b[0;34m()\u001b[0m\n\u001b[0;32m----> 1\u001b[0;31m \u001b[0mPOST\u001b[0m \u001b[0;34m/\u001b[0m\u001b[0mgenerate\u001b[0m\u001b[0;34m-\u001b[0m\u001b[0moffer\u001b[0m\u001b[0;34m-\u001b[0m\u001b[0mletter\u001b[0m\u001b[0;34m\u001b[0m\u001b[0;34m\u001b[0m\u001b[0m\n\u001b[0m",
            "\u001b[0;31mNameError\u001b[0m: name 'POST' is not defined"
          ]
        }
      ]
    },
    {
      "cell_type": "code",
      "source": [
        "import requests\n",
        "\n",
        "# Define the data payload for the POST request\n",
        "payload = {\n",
        "    \"name\": \"John Doe\",\n",
        "    \"position\": \"Software Engineering Intern\",\n",
        "    \"duration_weeks\": 10\n",
        "}\n",
        "\n",
        "# The URL for the FastAPI endpoint\n",
        "# By default, uvicorn runs on http://127.0.0.1:8000\n",
        "url = \"http://127.0.0.1:8000/generate-offer-letter\"\n",
        "\n",
        "# Send the POST request\n",
        "try:\n",
        "    response = requests.post(url, json=payload)\n",
        "\n",
        "    # Check if the request was successful\n",
        "    if response.status_code == 200:\n",
        "        # The response content is the PDF bytes\n",
        "        # You can save the PDF to a file or handle it as needed\n",
        "        with open(\"offer_letter.pdf\", \"wb\") as f:\n",
        "            f.write(response.content)\n",
        "        print(\"PDF generated successfully and saved as offer_letter.pdf\")\n",
        "    else:\n",
        "        print(f\"Error: Request failed with status code {response.status_code}\")\n",
        "        print(response.text)\n",
        "\n",
        "except requests.exceptions.ConnectionError:\n",
        "    print(\"Error: Could not connect to the server.\")\n",
        "    print(\"Please ensure the uvicorn server is running in another cell or terminal.\")\n",
        "except Exception as e:\n",
        "    print(f\"An unexpected error occurred: {e}\")"
      ],
      "metadata": {
        "colab": {
          "base_uri": "https://localhost:8080/"
        },
        "id": "xxPR6u5Fzuoi",
        "outputId": "57f1d96e-a245-42b8-9f13-762aedb78383"
      },
      "execution_count": 10,
      "outputs": [
        {
          "output_type": "stream",
          "name": "stdout",
          "text": [
            "Error: Could not connect to the server.\n",
            "Please ensure the uvicorn server is running in another cell or terminal.\n"
          ]
        }
      ]
    },
    {
      "cell_type": "code",
      "source": [
        "{\n",
        "  \"name\": \"Alice Johnson\",\n",
        "  \"position\": \"Data Science Intern\",\n",
        "  \"duration_weeks\": 12\n",
        "}\n"
      ],
      "metadata": {
        "colab": {
          "base_uri": "https://localhost:8080/"
        },
        "id": "fXQbfcLrz19o",
        "outputId": "93d728f4-0a4a-48d7-dc48-19e639ddd96e"
      },
      "execution_count": 12,
      "outputs": [
        {
          "output_type": "execute_result",
          "data": {
            "text/plain": [
              "{'name': 'Alice Johnson',\n",
              " 'position': 'Data Science Intern',\n",
              " 'duration_weeks': 12}"
            ]
          },
          "metadata": {},
          "execution_count": 12
        }
      ]
    },
    {
      "cell_type": "markdown",
      "source": [
        "Optional Enhancements\n",
        "Use WeasyPrint or xhtml2pdf for HTML-to-PDF styling\n",
        "\n",
        "Add company logo/images to PDF using drawImage()\n",
        "\n",
        "Email the generated PDF (attach it using Gmail API)\n",
        "\n"
      ],
      "metadata": {
        "id": "-O33RI4sz-AF"
      }
    }
  ]
}