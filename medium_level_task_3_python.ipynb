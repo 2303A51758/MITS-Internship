{
  "nbformat": 4,
  "nbformat_minor": 0,
  "metadata": {
    "colab": {
      "provenance": [],
      "authorship_tag": "ABX9TyMYLUSPvmMwVf2UHrNS03oN",
      "include_colab_link": true
    },
    "kernelspec": {
      "name": "python3",
      "display_name": "Python 3"
    },
    "language_info": {
      "name": "python"
    }
  },
  "cells": [
    {
      "cell_type": "markdown",
      "metadata": {
        "id": "view-in-github",
        "colab_type": "text"
      },
      "source": [
        "<a href=\"https://colab.research.google.com/github/2303A51758/MITS-Internship/blob/main/medium_level_task_3_python.ipynb\" target=\"_parent\"><img src=\"https://colab.research.google.com/assets/colab-badge.svg\" alt=\"Open In Colab\"/></a>"
      ]
    },
    {
      "cell_type": "markdown",
      "source": [
        "Task 3: Automate Form Data Processing & Storage Integration\n",
        "✨ Features:\n",
        "Receives form data (from a dictionary or simulated POST request)\n",
        "\n",
        "Appends data to Google Sheet using the Google Sheets API\n",
        "\n",
        "Includes error handling and logging\n",
        "\n",
        "Supports rate-limit handling via exponential backoff\n",
        "\n"
      ],
      "metadata": {
        "id": "amRKLkEWueRS"
      }
    },
    {
      "cell_type": "markdown",
      "source": [
        "Step 1: Prerequisites\n",
        "1. Enable Google Sheets API\n",
        "Go to Google Cloud Console\n",
        "\n",
        "Create a project → Enable Google Sheets API and Google Drive API\n",
        "\n",
        "Create Service Account credentials and download the JSON key file\n",
        "\n",
        "2. Share your target Google Sheet\n",
        "Share the sheet with your service account's email (e.g. xyz@project.iam.gserviceaccount.com) with Editor access"
      ],
      "metadata": {
        "id": "yl_ObmDEujI2"
      }
    },
    {
      "cell_type": "markdown",
      "source": [
        "Step 2: Install Required Libraries"
      ],
      "metadata": {
        "id": "W596kj2qurIL"
      }
    },
    {
      "cell_type": "code",
      "source": [
        "pip install gspread google-auth\n"
      ],
      "metadata": {
        "colab": {
          "base_uri": "https://localhost:8080/"
        },
        "id": "RK0yTFqHuwd0",
        "outputId": "b393bfda-06e5-49c4-cf64-ec261dbf364b"
      },
      "execution_count": 1,
      "outputs": [
        {
          "output_type": "stream",
          "name": "stdout",
          "text": [
            "Requirement already satisfied: gspread in /usr/local/lib/python3.11/dist-packages (6.2.1)\n",
            "Requirement already satisfied: google-auth in /usr/local/lib/python3.11/dist-packages (2.38.0)\n",
            "Requirement already satisfied: google-auth-oauthlib>=0.4.1 in /usr/local/lib/python3.11/dist-packages (from gspread) (1.2.2)\n",
            "Requirement already satisfied: cachetools<6.0,>=2.0.0 in /usr/local/lib/python3.11/dist-packages (from google-auth) (5.5.2)\n",
            "Requirement already satisfied: pyasn1-modules>=0.2.1 in /usr/local/lib/python3.11/dist-packages (from google-auth) (0.4.2)\n",
            "Requirement already satisfied: rsa<5,>=3.1.4 in /usr/local/lib/python3.11/dist-packages (from google-auth) (4.9.1)\n",
            "Requirement already satisfied: requests-oauthlib>=0.7.0 in /usr/local/lib/python3.11/dist-packages (from google-auth-oauthlib>=0.4.1->gspread) (2.0.0)\n",
            "Requirement already satisfied: pyasn1<0.7.0,>=0.6.1 in /usr/local/lib/python3.11/dist-packages (from pyasn1-modules>=0.2.1->google-auth) (0.6.1)\n",
            "Requirement already satisfied: oauthlib>=3.0.0 in /usr/local/lib/python3.11/dist-packages (from requests-oauthlib>=0.7.0->google-auth-oauthlib>=0.4.1->gspread) (3.2.2)\n",
            "Requirement already satisfied: requests>=2.0.0 in /usr/local/lib/python3.11/dist-packages (from requests-oauthlib>=0.7.0->google-auth-oauthlib>=0.4.1->gspread) (2.32.3)\n",
            "Requirement already satisfied: charset-normalizer<4,>=2 in /usr/local/lib/python3.11/dist-packages (from requests>=2.0.0->requests-oauthlib>=0.7.0->google-auth-oauthlib>=0.4.1->gspread) (3.4.2)\n",
            "Requirement already satisfied: idna<4,>=2.5 in /usr/local/lib/python3.11/dist-packages (from requests>=2.0.0->requests-oauthlib>=0.7.0->google-auth-oauthlib>=0.4.1->gspread) (3.10)\n",
            "Requirement already satisfied: urllib3<3,>=1.21.1 in /usr/local/lib/python3.11/dist-packages (from requests>=2.0.0->requests-oauthlib>=0.7.0->google-auth-oauthlib>=0.4.1->gspread) (2.4.0)\n",
            "Requirement already satisfied: certifi>=2017.4.17 in /usr/local/lib/python3.11/dist-packages (from requests>=2.0.0->requests-oauthlib>=0.7.0->google-auth-oauthlib>=0.4.1->gspread) (2025.4.26)\n"
          ]
        }
      ]
    },
    {
      "cell_type": "markdown",
      "source": [
        "Step 3: Python Script – form_to_sheet.py"
      ],
      "metadata": {
        "id": "q-Iiu36vu4r7"
      }
    },
    {
      "cell_type": "code",
      "source": [
        "import gspread\n",
        "from google.oauth2.service_account import Credentials\n",
        "from datetime import datetime\n",
        "import logging\n",
        "import time\n",
        "\n",
        "# ========== Logging Setup ==========\n",
        "logging.basicConfig(level=logging.INFO, filename=\"form_sync.log\", filemode=\"a\",\n",
        "                    format=\"%(asctime)s - %(levelname)s - %(message)s\")\n",
        "\n",
        "# ========== Google Sheets Setup ==========\n",
        "# Update the path to your service account JSON key file\n",
        "# CHANGE THIS LINE to the actual path of your service account JSON key file\n",
        "# Replace \"/path/to/your/service_account.json\" with the actual path to your downloaded JSON key file\n",
        "SERVICE_ACCOUNT_FILE = \"your/actual/path/to/your/service_account.json\"  # <--- **UPDATE THIS LINE** with the correct path\n",
        "SCOPES = [\"https://www.googleapis.com/auth/spreadsheets\"]\n",
        "SHEET_NAME = \"Internship Applications\"\n",
        "\n",
        "def connect_to_sheet():\n",
        "    try:\n",
        "        # Replace \"path/to/your/service_account.json\" with the actual path to your downloaded JSON key file\n",
        "        creds = Credentials.from_service_account_file(SERVICE_ACCOUNT_FILE, scopes=SCOPES)\n",
        "        client = gspread.authorize(creds)\n",
        "        sheet = client.open(SHEET_NAME).sheet1\n",
        "        return sheet\n",
        "    except Exception as e:\n",
        "        # This exception is caught in the calling function (process_form_data)\n",
        "        # and will be logged there as \"Error connecting to Google Sheet\".\n",
        "        # Re-raising the exception to indicate a failure in connection.\n",
        "        raise e # Re-raising the caught exception\n",
        "\n",
        "# ========== Form Processing Logic ==========\n",
        "\n",
        "def process_form_data(form_data):\n",
        "    \"\"\"Takes a dict of form data and appends it to Google Sheet\"\"\"\n",
        "    sheet = None # Initialize sheet to None\n",
        "    try:\n",
        "        sheet = connect_to_sheet()\n",
        "    except Exception as e:\n",
        "        # The connection error is already logged in connect_to_sheet\n",
        "        logging.error(\"Failed to connect to Google Sheet. Cannot process form data.\")\n",
        "        return # Exit the function if connection fails\n",
        "\n",
        "    headers = [\"Name\", \"Email\", \"Domain\", \"Submission Time\"]\n",
        "    try:\n",
        "        # Check if the sheet is empty by getting all values.\n",
        "        # If empty, append the header row.\n",
        "        if not sheet.get_all_values():\n",
        "            sheet.append_row(headers)\n",
        "\n",
        "        row = [\n",
        "            form_data[\"name\"],\n",
        "            form_data[\"email\"],\n",
        "            form_data[\"domain\"],\n",
        "            datetime.now().strftime(\"%Y-%m-%d %H:%M:%S\")\n",
        "        ]\n",
        "\n",
        "        retries = 3\n",
        "        for attempt in range(retries):\n",
        "            try:\n",
        "                sheet.append_row(row)\n",
        "                logging.info(f\"Form data written: {row}\")\n",
        "                break  # Exit retry loop on success\n",
        "            except Exception as e:\n",
        "                logging.warning(f\"Attempt {attempt+1} to append row failed: {e}\")\n",
        "                time.sleep(2 ** attempt)  # Exponential backoff\n",
        "        else:\n",
        "            # This block executes if the loop completes without a break\n",
        "            logging.error(\"Max retries reached. Failed to append row to Google Sheet.\")\n",
        "\n",
        "    except Exception as e:\n",
        "        # This catch block is for errors occurring *after* a successful sheet connection\n",
        "        logging.error(f\"Failed to process form data after connecting to sheet: {e}\")\n",
        "\n",
        "\n",
        "# ========== Example Usage ==========\n",
        "if __name__ == \"__main__\":\n",
        "    test_form = {\n",
        "        \"name\": \"Alice Johnson\",\n",
        "        \"email\": \"alice@example.com\",\n",
        "        \"domain\": \"Data Science\"\n",
        "    }\n",
        "\n",
        "    process_form_data(test_form)"
      ],
      "metadata": {
        "colab": {
          "base_uri": "https://localhost:8080/"
        },
        "id": "P1HvTVI1wXCy",
        "outputId": "f3afcc7f-60a5-4e7e-92f4-e0ff73cb38d7"
      },
      "execution_count": 15,
      "outputs": [
        {
          "output_type": "stream",
          "name": "stderr",
          "text": [
            "ERROR:root:Failed to connect to Google Sheet. Cannot process form data.\n"
          ]
        }
      ]
    },
    {
      "cell_type": "markdown",
      "source": [
        "Output Example in Google Sheets:\n",
        "Name\tEmail\tDomain\tSubmission Time\n",
        "Alice Johnson\talice@example.com\tData Science\t2025-06-01 14:35:22\n",
        "\n",
        "✅ Optional: Hook with Web Form\n",
        "If you're collecting form data via FastAPI, Flask, or Django, just call process_form_data(form.dict()) in your POST handler.\n",
        "\n",
        "✅ Extras You Can Add\n",
        "Email confirmation using Gmail API\n",
        "\n",
        "Export to a database in parallel (e.g. PostgreSQL, MongoDB)\n",
        "\n",
        "Google Forms response parser using Google Drive API\n",
        "\n"
      ],
      "metadata": {
        "id": "2VDMzjaywhFk"
      }
    }
  ]
}